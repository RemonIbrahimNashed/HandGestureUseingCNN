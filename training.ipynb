{
  "nbformat": 4,
  "nbformat_minor": 0,
  "metadata": {
    "colab": {
      "name": "training.ipynb",
      "version": "0.3.2",
      "provenance": [],
      "collapsed_sections": []
    },
    "language_info": {
      "codemirror_mode": {
        "name": "ipython",
        "version": 3
      },
      "file_extension": ".py",
      "mimetype": "text/x-python",
      "name": "python",
      "nbconvert_exporter": "python",
      "pygments_lexer": "ipython3",
      "version": "3.6.8"
    },
    "kernelspec": {
      "display_name": "Python 3",
      "language": "python",
      "name": "python3"
    },
    "accelerator": "GPU"
  },
  "cells": [
    {
      "cell_type": "code",
      "metadata": {
        "colab_type": "code",
        "id": "8Y44LORIRhqC",
        "outputId": "68705be7-5c14-4daa-92be-fd7630c28087",
        "colab": {
          "base_uri": "https://localhost:8080/",
          "height": 146
        }
      },
      "source": [
        "from keras.applications import VGG16 , ResNet50 , VGG19\n",
        "vgg_conv = VGG16(weights='imagenet', include_top=False, input_shape=(64, 64, 3))\n"
      ],
      "execution_count": 0,
      "outputs": [
        {
          "output_type": "stream",
          "text": [
            "Using TensorFlow backend.\n"
          ],
          "name": "stderr"
        },
        {
          "output_type": "stream",
          "text": [
            "WARNING:tensorflow:From /usr/local/lib/python3.6/dist-packages/tensorflow/python/framework/op_def_library.py:263: colocate_with (from tensorflow.python.framework.ops) is deprecated and will be removed in a future version.\n",
            "Instructions for updating:\n",
            "Colocations handled automatically by placer.\n",
            "Downloading data from https://github.com/fchollet/deep-learning-models/releases/download/v0.1/vgg16_weights_tf_dim_ordering_tf_kernels_notop.h5\n",
            "58892288/58889256 [==============================] - 3s 0us/step\n"
          ],
          "name": "stdout"
        }
      ]
    },
    {
      "cell_type": "code",
      "metadata": {
        "colab_type": "code",
        "id": "rgzRqvvhT0Wc",
        "outputId": "0cee5dc6-ec49-45fa-b271-19cfe48ff43a",
        "colab": {
          "base_uri": "https://localhost:8080/",
          "height": 362
        }
      },
      "source": [
        "# Freeze the layers except the last 4 layers\n",
        "for layer in vgg_conv.layers[:-4]:\n",
        "    layer.trainable = False\n",
        " \n",
        "# Check the trainable status of the individual layers\n",
        "for layer in vgg_conv.layers:\n",
        "    print(layer, layer.trainable)"
      ],
      "execution_count": 0,
      "outputs": [
        {
          "output_type": "stream",
          "text": [
            "<keras.engine.input_layer.InputLayer object at 0x7f92f00f0208> False\n",
            "<keras.layers.convolutional.Conv2D object at 0x7f92a899e320> False\n",
            "<keras.layers.convolutional.Conv2D object at 0x7f92a899e4a8> False\n",
            "<keras.layers.pooling.MaxPooling2D object at 0x7f92a8944ba8> False\n",
            "<keras.layers.convolutional.Conv2D object at 0x7f92a8944630> False\n",
            "<keras.layers.convolutional.Conv2D object at 0x7f92a80f9940> False\n",
            "<keras.layers.pooling.MaxPooling2D object at 0x7f92a810fcc0> False\n",
            "<keras.layers.convolutional.Conv2D object at 0x7f92a810fac8> False\n",
            "<keras.layers.convolutional.Conv2D object at 0x7f92a80bccc0> False\n",
            "<keras.layers.convolutional.Conv2D object at 0x7f92a80d4e48> False\n",
            "<keras.layers.pooling.MaxPooling2D object at 0x7f92a807c5f8> False\n",
            "<keras.layers.convolutional.Conv2D object at 0x7f92a807cb38> False\n",
            "<keras.layers.convolutional.Conv2D object at 0x7f92a80287b8> False\n",
            "<keras.layers.convolutional.Conv2D object at 0x7f92a8043f60> False\n",
            "<keras.layers.pooling.MaxPooling2D object at 0x7f92a7fec7f0> False\n",
            "<keras.layers.convolutional.Conv2D object at 0x7f92a7fec6d8> True\n",
            "<keras.layers.convolutional.Conv2D object at 0x7f92a801c470> True\n",
            "<keras.layers.convolutional.Conv2D object at 0x7f92a7fafac8> True\n",
            "<keras.layers.pooling.MaxPooling2D object at 0x7f92a7fc7d68> True\n"
          ],
          "name": "stdout"
        }
      ]
    },
    {
      "cell_type": "code",
      "metadata": {
        "colab_type": "code",
        "id": "-BwBBbWTUF6M",
        "outputId": "224167e5-638f-490c-9a92-8003227ee02b",
        "colab": {
          "base_uri": "https://localhost:8080/",
          "height": 509
        }
      },
      "source": [
        "from keras import models\n",
        "from keras import layers\n",
        "from keras import optimizers\n",
        "from keras import Sequential \n",
        "from keras.layers import BatchNormalization , Conv2D \n",
        "# Create the model\n",
        "model = Sequential()\n",
        "\n",
        "model.add(Conv2D(10, kernel_size = (1,1), input_shape=(64,64,3),padding = 'same', activation = 'relu'))\n",
        "model.add(BatchNormalization())\n",
        "model.add(Conv2D(3, kernel_size = (1,1), padding = 'same', activation = 'relu'))\n",
        " \n",
        "# Add the vgg convolutional base model\n",
        "model.add(vgg_conv)\n",
        " \n",
        "# Add new layers\n",
        "model.add(layers.Flatten())\n",
        "model.add(layers.Dense(1024, activation='relu'))\n",
        "model.add(layers.Dropout(0.5))\n",
        "model.add(layers.Dense(5, activation='softmax'))\n",
        " \n",
        "# # Show a summary of the model. Check the number of trainable parameters\n",
        "model.summary()"
      ],
      "execution_count": 0,
      "outputs": [
        {
          "output_type": "stream",
          "text": [
            "WARNING:tensorflow:From /usr/local/lib/python3.6/dist-packages/keras/backend/tensorflow_backend.py:3445: calling dropout (from tensorflow.python.ops.nn_ops) with keep_prob is deprecated and will be removed in a future version.\n",
            "Instructions for updating:\n",
            "Please use `rate` instead of `keep_prob`. Rate should be set to `rate = 1 - keep_prob`.\n",
            "_________________________________________________________________\n",
            "Layer (type)                 Output Shape              Param #   \n",
            "=================================================================\n",
            "conv2d_1 (Conv2D)            (None, 64, 64, 10)        40        \n",
            "_________________________________________________________________\n",
            "batch_normalization_1 (Batch (None, 64, 64, 10)        40        \n",
            "_________________________________________________________________\n",
            "conv2d_2 (Conv2D)            (None, 64, 64, 3)         33        \n",
            "_________________________________________________________________\n",
            "vgg16 (Model)                (None, 2, 2, 512)         14714688  \n",
            "_________________________________________________________________\n",
            "flatten_1 (Flatten)          (None, 2048)              0         \n",
            "_________________________________________________________________\n",
            "dense_1 (Dense)              (None, 1024)              2098176   \n",
            "_________________________________________________________________\n",
            "dropout_1 (Dropout)          (None, 1024)              0         \n",
            "_________________________________________________________________\n",
            "dense_2 (Dense)              (None, 5)                 5125      \n",
            "=================================================================\n",
            "Total params: 16,818,102\n",
            "Trainable params: 9,182,818\n",
            "Non-trainable params: 7,635,284\n",
            "_________________________________________________________________\n"
          ],
          "name": "stdout"
        }
      ]
    },
    {
      "cell_type": "code",
      "metadata": {
        "colab_type": "code",
        "id": "doMpbxEQUwlm",
        "outputId": "e412276c-dbec-427f-c01a-c6662873f95b",
        "colab": {
          "base_uri": "https://localhost:8080/",
          "height": 35
        }
      },
      "source": [
        "from keras.preprocessing.image import ImageDataGenerator\n",
        "train_datagen = ImageDataGenerator(\n",
        "      rescale=1./255,\n",
        "      rotation_range=20,\n",
        "      width_shift_range=0.2,\n",
        "      height_shift_range=0.2,\n",
        "      horizontal_flip=True,\n",
        "      fill_mode='nearest')\n",
        "validation_datagen = ImageDataGenerator(rescale=1./255)\n",
        " \n",
        "# Change the batchsize according to your system RAM\n",
        "train_batchsize = 100\n",
        "val_batchsize = 10\n",
        "\n",
        " \n",
        "train_generator = train_datagen.flow_from_directory(\n",
        "        \"./Dataset/training_set/\",\n",
        "        target_size=(64, 64),\n",
        "        batch_size=train_batchsize,\n",
        "        class_mode='categorical')\n",
        " \n"
      ],
      "execution_count": 0,
      "outputs": [
        {
          "output_type": "stream",
          "text": [
            "Found 40001 images belonging to 5 classes.\n"
          ],
          "name": "stdout"
        }
      ]
    },
    {
      "cell_type": "code",
      "metadata": {
        "colab_type": "code",
        "id": "PAsTkvyUYAol",
        "outputId": "da07ae13-14ec-4201-c487-4ad25b3d97bb",
        "colab": {
          "base_uri": "https://localhost:8080/",
          "height": 35
        }
      },
      "source": [
        "validation_generator = validation_datagen.flow_from_directory(\n",
        "        \"./Dataset/test_set\",\n",
        "        target_size=(64, 64),\n",
        "        batch_size=val_batchsize,\n",
        "        class_mode='categorical',\n",
        "        shuffle=False)"
      ],
      "execution_count": 0,
      "outputs": [
        {
          "output_type": "stream",
          "text": [
            "Found 9554 images belonging to 5 classes.\n"
          ],
          "name": "stdout"
        }
      ]
    },
    {
      "cell_type": "code",
      "metadata": {
        "colab_type": "code",
        "id": "QPIxYRQuYbo_",
        "colab": {}
      },
      "source": [
        "model.compile(loss='categorical_crossentropy',\n",
        "              optimizer=optimizers.RMSprop(lr=1e-4),\n",
        "              metrics=['acc'])\n"
      ],
      "execution_count": 0,
      "outputs": []
    },
    {
      "cell_type": "code",
      "metadata": {
        "colab_type": "code",
        "id": "2Vh5vPrzYzAG",
        "outputId": "d3957c1c-2245-4ee1-81f6-5a1bd2e8f651",
        "colab": {
          "base_uri": "https://localhost:8080/",
          "height": 217
        }
      },
      "source": [
        "\n",
        "model.fit_generator(\n",
        "      train_generator,\n",
        "      steps_per_epoch=train_generator.samples/train_generator.batch_size ,\n",
        "      epochs=5,\n",
        "      validation_data=validation_generator,\n",
        "      validation_steps=validation_generator.samples/validation_generator.batch_size,\n",
        "      )"
      ],
      "execution_count": 0,
      "outputs": [
        {
          "output_type": "stream",
          "text": [
            "Epoch 1/5\n",
            "401/400 [==============================] - 115s 286ms/step - loss: 0.3220 - acc: 0.8822 - val_loss: 0.2064 - val_acc: 0.9299\n",
            "Epoch 2/5\n",
            "401/400 [==============================] - 111s 276ms/step - loss: 0.1330 - acc: 0.9556 - val_loss: 0.3983 - val_acc: 0.8862\n",
            "Epoch 3/5\n",
            "401/400 [==============================] - 110s 275ms/step - loss: 0.1057 - acc: 0.9653 - val_loss: 0.1787 - val_acc: 0.9344\n",
            "Epoch 4/5\n",
            "401/400 [==============================] - 110s 275ms/step - loss: 0.0927 - acc: 0.9706 - val_loss: 0.1954 - val_acc: 0.9402\n",
            "Epoch 5/5\n",
            "401/400 [==============================] - 111s 276ms/step - loss: 0.0905 - acc: 0.9728 - val_loss: 0.6695 - val_acc: 0.8770\n"
          ],
          "name": "stdout"
        },
        {
          "output_type": "execute_result",
          "data": {
            "text/plain": [
              "<keras.callbacks.History at 0x7f928b939d68>"
            ]
          },
          "metadata": {
            "tags": []
          },
          "execution_count": 18
        }
      ]
    },
    {
      "cell_type": "code",
      "metadata": {
        "colab_type": "code",
        "id": "sUUQOxNLfo1e",
        "outputId": "53b98bc1-5431-4934-f8f5-88644bf83e92",
        "colab": {
          "base_uri": "https://localhost:8080/",
          "height": 35
        }
      },
      "source": [
        "scores = model.evaluate_generator(validation_generator,steps=validation_generator.samples/validation_generator.batch_size)\n",
        "print(\"accuracy is \", scores[1])"
      ],
      "execution_count": 0,
      "outputs": [
        {
          "output_type": "stream",
          "text": [
            "accuracy is  0.877014862432349\n"
          ],
          "name": "stdout"
        }
      ]
    },
    {
      "cell_type": "code",
      "metadata": {
        "colab_type": "code",
        "id": "yrWZjP43CCqi",
        "colab": {}
      },
      "source": [
        "model.save_weights(\"weights.hdf5\",overwrite=True)"
      ],
      "execution_count": 0,
      "outputs": []
    },
    {
      "cell_type": "code",
      "metadata": {
        "colab_type": "code",
        "id": "r9ENsp3gCI1k",
        "outputId": "b0a9d7de-3b2d-4a69-f27b-a99bb7ace4f6",
        "colab": {
          "base_uri": "https://localhost:8080/",
          "height": 35
        }
      },
      "source": [
        "model_json = model.to_json()\n",
        "with open(\"model.json\", \"w\") as model_file:\n",
        "    model_file.write(model_json)\n",
        "print(\"Model has been saved.\")"
      ],
      "execution_count": 0,
      "outputs": [
        {
          "output_type": "stream",
          "text": [
            "Model has been saved.\n"
          ],
          "name": "stdout"
        }
      ]
    }
  ]
}